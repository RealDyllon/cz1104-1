{
 "cells": [
  {
   "cell_type": "markdown",
   "metadata": {},
   "source": [
    "# Question 1:\n",
    "\n"
   ]
  },
  {
   "cell_type": "code",
   "execution_count": 166,
   "metadata": {},
   "outputs": [],
   "source": [
    "import numpy as np\n",
    "import math\n",
    "import scipy\n",
    "from scipy import linalg"
   ]
  },
  {
   "cell_type": "code",
   "execution_count": 156,
   "metadata": {},
   "outputs": [
    {
     "name": "stdout",
     "output_type": "stream",
     "text": [
      "first reply is 0\n",
      "second reply is 1\n"
     ]
    }
   ],
   "source": [
    "password = np.array([1,0,1,1,1])\n",
    "c1 = np.array([0,1,0,1,1])\n",
    "c2 = np.array([1,1,1,1,0])\n",
    "\n",
    "beta1 = (np.dot(password, c1))%2\n",
    "beta2 = (np.dot(password, c2))%2\n",
    "\n",
    "print(\"first reply is {}\".format(beta1))\n",
    "print(\"second reply is {}\".format(beta2))"
   ]
  },
  {
   "cell_type": "markdown",
   "metadata": {},
   "source": [
    "# Question 2:\n",
    "\n"
   ]
  },
  {
   "cell_type": "markdown",
   "metadata": {},
   "source": [
    "since beta1 = 01011.x and beta2 = 11110.x,\n",
    "(01011 + 1110).x = (01011.x) + (11110.x)\n",
    "                 = beta1 + beta2\n",
    "                 = 1"
   ]
  },
  {
   "cell_type": "code",
   "execution_count": 157,
   "metadata": {},
   "outputs": [
    {
     "data": {
      "text/plain": [
       "1"
      ]
     },
     "execution_count": 157,
     "metadata": {},
     "output_type": "execute_result"
    }
   ],
   "source": [
    "(beta1 + beta2)%2"
   ]
  },
  {
   "cell_type": "markdown",
   "metadata": {},
   "source": [
    "# Question 3:\n",
    "\n"
   ]
  },
  {
   "cell_type": "code",
   "execution_count": 158,
   "metadata": {
    "scrolled": true
   },
   "outputs": [
    {
     "name": "stdout",
     "output_type": "stream",
     "text": [
      "[[1 1 0 0 1 1 0]\n",
      " [1 0 1 0 1 0 0]\n",
      " [1 1 1 0 1 1 1]\n",
      " [0 0 1 1 0 0 1]]\n"
     ]
    }
   ],
   "source": [
    "Ch = np.array([[1,1,0,0,1,1,0],\n",
    "               [1,0,1,0,1,0,0],\n",
    "               [1,1,1,0,1,1,1],\n",
    "               [0,0,1,1,0,0,1]])\n",
    "print(Ch)"
   ]
  },
  {
   "cell_type": "code",
   "execution_count": 159,
   "metadata": {},
   "outputs": [],
   "source": [
    "#modify array Ch"
   ]
  },
  {
   "cell_type": "code",
   "execution_count": 160,
   "metadata": {
    "scrolled": true
   },
   "outputs": [
    {
     "name": "stdout",
     "output_type": "stream",
     "text": [
      "[[1 1 0 0 1 1 0]\n",
      " [1 0 1 0 1 0 0]\n",
      " [0 0 1 0 0 0 1]\n",
      " [0 0 1 1 0 0 1]]\n",
      "[[1 1 0 0 1 1 0]\n",
      " [1 0 1 0 1 0 0]\n",
      " [0 0 1 0 0 0 1]\n",
      " [0 0 0 1 0 0 0]]\n",
      "[[0 1 0 0 0 1 1]\n",
      " [1 0 1 0 1 0 0]\n",
      " [0 0 1 0 0 0 1]\n",
      " [0 0 0 1 0 0 0]]\n"
     ]
    }
   ],
   "source": [
    "Ch[2]=(Ch[0]+Ch[2])%2\n",
    "print(Ch)\n",
    "Ch[3]=(Ch[2]+Ch[3])%2\n",
    "print(Ch)\n",
    "Ch[0]=(Ch[0]+Ch[1]+Ch[2])%2\n",
    "print(Ch)\n",
    "Ch[1]=(Ch[1]+Ch[2])%2"
   ]
  },
  {
   "cell_type": "code",
   "execution_count": 161,
   "metadata": {},
   "outputs": [
    {
     "data": {
      "text/plain": [
       "array([[0, 1, 0, 0, 0, 1, 1],\n",
       "       [1, 0, 0, 0, 1, 0, 1],\n",
       "       [0, 0, 1, 0, 0, 0, 1],\n",
       "       [0, 0, 0, 1, 0, 0, 0]])"
      ]
     },
     "execution_count": 161,
     "metadata": {},
     "output_type": "execute_result"
    }
   ],
   "source": [
    "Ch"
   ]
  },
  {
   "cell_type": "code",
   "execution_count": 162,
   "metadata": {},
   "outputs": [],
   "source": [
    "def response(Ch, c):\n",
    "    #if challenged 011001\n",
    "    if c == \"011001\":\n",
    "        result = ((Ch[0]+Ch[2]))%2\n",
    "        #Ch[0] + Ch[2] = 0110010\n",
    "        return result[6]\n",
    "    #if challenge 110111\n",
    "    elif c == \"110111\":\n",
    "        result = ((Ch[1]+Ch[0]+Ch[3]))%2\n",
    "        #Ch[1]+Ch[0]+Ch[3] = 1101110\n",
    "        return result[6]"
   ]
  },
  {
   "cell_type": "code",
   "execution_count": 163,
   "metadata": {},
   "outputs": [
    {
     "data": {
      "text/plain": [
       "0"
      ]
     },
     "execution_count": 163,
     "metadata": {},
     "output_type": "execute_result"
    }
   ],
   "source": [
    "response(Ch, \"110111\")"
   ]
  },
  {
   "cell_type": "markdown",
   "metadata": {},
   "source": [
    "# Question 4:\n",
    "\n"
   ]
  },
  {
   "cell_type": "code",
   "execution_count": 183,
   "metadata": {},
   "outputs": [],
   "source": [
    "#for eqn 1 to have solution, number of eqns m, in matrix, \n",
    "#must be greater or equal to length of challenge. \n",
    "\n",
    "Ch2 = np.array([[1,1,0,0,1,1],\n",
    "                [1,0,1,0,1,0],\n",
    "                [1,1,1,0,1,1],\n",
    "                [0,0,1,1,0,0],\n",
    "                [0,1,1,0,1,1],\n",
    "                [1,1,0,1,0,0]])\n",
    "Ch3 = np.array([0,0,1,1,0,1])\n",
    "#Ch3 = Ch3.T\n",
    "#Ch3         "
   ]
  },
  {
   "cell_type": "code",
   "execution_count": 184,
   "metadata": {},
   "outputs": [
    {
     "data": {
      "text/plain": [
       "array([1., 0., 1., 0., 0., 1.])"
      ]
     },
     "execution_count": 184,
     "metadata": {},
     "output_type": "execute_result"
    }
   ],
   "source": [
    "(scipy.linalg.solve(Ch2, Ch3))%2"
   ]
  },
  {
   "cell_type": "markdown",
   "metadata": {},
   "source": [
    "# Question 5:"
   ]
  },
  {
   "cell_type": "code",
   "execution_count": 244,
   "metadata": {},
   "outputs": [
    {
     "name": "stdout",
     "output_type": "stream",
     "text": [
      "[[  28.886817   10.341    4519.844   ]\n",
      " [  10.341       5.       1648.      ]]\n",
      "[[4519.844]\n",
      " [1648.   ]]\n"
     ]
    }
   ],
   "source": [
    "x = np.array([0.846,1.324,1.150,3.037,3.984])\n",
    "y = np.array([115.00,234.50,198.00,528.00,572.50])\n",
    "n = len(x)\n",
    "sumx = np.sum(x)\n",
    "sumy = np.sum(y)\n",
    "sumx2 = np.sum(x*x)\n",
    "sumxy = np.sum(x*y)\n",
    "#let A be augmented matrix\n",
    "A = np.array([[sumx2, sumx, sumxy],\n",
    "             [sumx, n, sumy]])\n",
    "b = np.array([[sumxy],[sumy]])\n",
    "print(A)\n",
    "print(b)\n"
   ]
  },
  {
   "cell_type": "code",
   "execution_count": 245,
   "metadata": {},
   "outputs": [
    {
     "data": {
      "text/plain": [
       "array([[  1.        ,   0.        , 148.20206538],\n",
       "       [  0.        ,   1.        ,  23.08848838]])"
      ]
     },
     "execution_count": 245,
     "metadata": {},
     "output_type": "execute_result"
    }
   ],
   "source": [
    "#perform elementary row operations on matrix A until row echelon form\n",
    "A[0] = A[0]/A[0][0]\n",
    "A[1] = A[1]/A[1][0] - A[0]\n",
    "A[1] = A[1]/A[1][1]\n",
    "A[0] = A[0]-(A[1]*A[0][1])\n",
    "A"
   ]
  },
  {
   "cell_type": "code",
   "execution_count": 250,
   "metadata": {},
   "outputs": [
    {
     "name": "stdout",
     "output_type": "stream",
     "text": [
      "m is 148.2020653796153\n",
      "c is 23.08848838187969\n"
     ]
    }
   ],
   "source": [
    "m = A[0,2]\n",
    "c = A[1,2]\n",
    "print(\"m is {}\".format(A[0,2]))\n",
    "print(\"c is {}\".format(A[1,2]))"
   ]
  },
  {
   "cell_type": "code",
   "execution_count": 252,
   "metadata": {},
   "outputs": [
    {
     "data": {
      "image/png": "[encoded data removed]",
      "text/plain": [
       "<Figure size 432x288 with 1 Axes>"
      ]
     },
     "metadata": {
      "needs_background": "light"
     },
     "output_type": "display_data"
    }
   ],
   "source": [
    "import matplotlib.pyplot as plt\n",
    "xs = np.linspace(0,4,5)\n",
    "ys = c + m*xs\n",
    "plt.plot(xs,ys,'r',linewidth=4)\n",
    "plt.scatter(x,y)\n",
    "plt.show()"
   ]
  },
  {
   "cell_type": "markdown",
   "metadata": {},
   "source": [
    "# Question 6:"
   ]
  },
  {
   "cell_type": "code",
   "execution_count": 289,
   "metadata": {},
   "outputs": [],
   "source": [
    "from mpl_toolkits import mplot3d"
   ]
  },
  {
   "cell_type": "code",
   "execution_count": 290,
   "metadata": {},
   "outputs": [],
   "source": [
    "%matplotlib inline\n",
    "import numpy as np\n",
    "import matplotlib.pyplot as plt"
   ]
  },
  {
   "cell_type": "code",
   "execution_count": 302,
   "metadata": {},
   "outputs": [
    {
     "name": "stdout",
     "output_type": "stream",
     "text": [
      "a is [  9.97566234 130.67172705  16.45635726]\n"
     ]
    }
   ],
   "source": [
    "sumX = np.array([[1,0.846,1],\n",
    "                [1,1.324,2],\n",
    "                [1,1.150,3],\n",
    "                [1,3.037,4],\n",
    "                [1,3.984,5]])\n",
    "sumXT = np.transpose(sumX)\n",
    "sumY = np.array([115.00,234.50,198.00,528.00,572.50])\n",
    "a = scipy.linalg.solve((sumXT@sumX), (sumXT@sumY))\n",
    "print(\"a is {}\".format(a))"
   ]
  },
  {
   "cell_type": "code",
   "execution_count": 315,
   "metadata": {},
   "outputs": [
    {
     "name": "stdout",
     "output_type": "stream",
     "text": [
      "[[0. 1. 2. 3. 4.]\n",
      " [0. 1. 2. 3. 4.]\n",
      " [0. 1. 2. 3. 4.]\n",
      " [0. 1. 2. 3. 4.]\n",
      " [0. 1. 2. 3. 4.]]\n",
      "[[1. 1. 1. 1. 1.]\n",
      " [2. 2. 2. 2. 2.]\n",
      " [3. 3. 3. 3. 3.]\n",
      " [4. 4. 4. 4. 4.]\n",
      " [5. 5. 5. 5. 5.]]\n",
      "[[ 26.4320196  157.10374665 287.77547369 418.44720074 549.11892779]\n",
      " [ 42.88837686 173.56010391 304.23183096 434.903558   565.57528505]\n",
      " [ 59.34473412 190.01646117 320.68818822 451.35991526 582.03164231]\n",
      " [ 75.80109138 206.47281843 337.14454548 467.81627252 598.48799957]\n",
      " [ 92.25744864 222.92917569 353.60090274 484.27262979 614.94435683]]\n"
     ]
    },
    {
     "data": {
      "text/plain": [
       "<mpl_toolkits.mplot3d.art3d.Poly3DCollection at 0x1f4ea3517c0>"
      ]
     },
     "execution_count": 315,
     "metadata": {},
     "output_type": "execute_result"
    },
    {
     "data": {
      "image/png": "[encoded data removed]",
      "text/plain": [
       "<Figure size 432x288 with 1 Axes>"
      ]
     },
     "metadata": {
      "needs_background": "light"
     },
     "output_type": "display_data"
    }
   ],
   "source": [
    "fig = plt.figure()\n",
    "ax = plt.axes(projection='3d')\n",
    "ax.scatter3D(sumXT[1], sumXT[2], sumY)\n",
    "X = np.linspace(0, 4, 5)\n",
    "Y = np.linspace(1, 5, 5)\n",
    "X, Y = np.meshgrid(X, Y)\n",
    "\n",
    "def f(X, Y):\n",
    "    out = a[0] + ((a[1]) * (X)) + ((a[2]) * (Y)) \n",
    "    return out\n",
    "\n",
    "Z = f(X, Y)\n",
    "print(X)\n",
    "print(Y)\n",
    "print(Z)\n",
    "ax.plot_surface(X, Y, Z, color='red')"
   ]
  },
  {
   "cell_type": "code",
   "execution_count": 321,
   "metadata": {},
   "outputs": [
    {
     "name": "stdout",
     "output_type": "stream",
     "text": [
      "house no.1 expected price is 136.98030067975762\n",
      "house no.2 expected price is 215.89774346960272\n",
      "house no.3 expected price is 209.61722022323426\n",
      "house no.4 expected price is 472.6511264256942\n",
      "house no.5 expected price is 612.8536092017113\n"
     ]
    }
   ],
   "source": [
    "for house in sumX:\n",
    "    area = house[1]\n",
    "    rooms = house[2]\n",
    "    price = a[0] + ((a[1]) * (area)) + ((a[2]) * (rooms))\n",
    "    print(\"house no.{} expected price is {}\".format(int(rooms), price))\n",
    "    "
   ]
  },
  {
   "cell_type": "code",
   "execution_count": null,
   "metadata": {},
   "outputs": [],
   "source": []
  }
 ],
 "metadata": {
  "kernelspec": {
   "display_name": "Python 3",
   "language": "python",
   "name": "python3"
  },
  "language_info": {
   "codemirror_mode": {
    "name": "ipython",
    "version": 3
   },
   "file_extension": ".py",
   "mimetype": "text/x-python",
   "name": "python",
   "nbconvert_exporter": "python",
   "pygments_lexer": "ipython3",
   "version": "3.8.5"
  }
 },
 "nbformat": 4,
 "nbformat_minor": 4
}
